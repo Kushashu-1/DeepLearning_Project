{
  "nbformat": 4,
  "nbformat_minor": 0,
  "metadata": {
    "colab": {
      "provenance": [],
      "mount_file_id": "1yvvNEX_DLN07PyiAYBCdwZBCxoJwLEv-",
      "authorship_tag": "ABX9TyNCJ1K3QKD/M/Q3LQvfG91G",
      "include_colab_link": true
    },
    "kernelspec": {
      "name": "python3",
      "display_name": "Python 3"
    },
    "language_info": {
      "name": "python"
    }
  },
  "cells": [
    {
      "cell_type": "markdown",
      "metadata": {
        "id": "view-in-github",
        "colab_type": "text"
      },
      "source": [
        "<a href=\"https://colab.research.google.com/github/Kushashu-1/DeepLearning_Project/blob/main/Brain_Tumar_Classification.ipynb\" target=\"_parent\"><img src=\"https://colab.research.google.com/assets/colab-badge.svg\" alt=\"Open In Colab\"/></a>"
      ]
    },
    {
      "cell_type": "code",
      "execution_count": null,
      "metadata": {
        "id": "-xxBg_i4tzNg"
      },
      "outputs": [],
      "source": [
        "### Neural Network Project \n",
        "### Topic under : Health Care Analysis\n",
        "### Objective is to build model that would Classify presence of tumor or not on the Basis of MRI Scan  "
      ]
    },
    {
      "cell_type": "code",
      "source": [
        "import numpy as np \n",
        "import pandas as pd \n",
        "import math\n",
        "import cv2\n",
        "import matplotlib.pyplot as plt\n",
        "import os\n",
        "import seaborn as sns\n",
        "from PIL import Image\n",
        "from scipy import misc\n",
        "from os import listdir\n",
        "from os.path import isfile, join\n",
        "import numpy as np\n",
        "from scipy import misc\n",
        "from random import shuffle\n",
        "from collections import Counter\n",
        "import matplotlib.pyplot as plt\n",
        "from sklearn.decomposition import PCA\n",
        "from sklearn.manifold import TSNE\n",
        "import tensorflow as tf\n",
        "from keras.models import Sequential\n",
        "from keras.layers import Conv2D, MaxPooling2D\n",
        "from keras.layers import Activation, Dropout, Flatten, Dense\n",
        "from keras.utils.np_utils import to_categorical"
      ],
      "metadata": {
        "id": "2Vawn4Hju0_n"
      },
      "execution_count": null,
      "outputs": []
    },
    {
      "cell_type": "code",
      "source": [
        "os.listdir('/content/drive/MyDrive/Colab Notebooks/Data/brain_tumor_dataset')"
      ],
      "metadata": {
        "colab": {
          "base_uri": "https://localhost:8080/"
        },
        "id": "kz_MbwQTClgh",
        "outputId": "9e678d65-4717-47b0-8759-9fb467bb724b"
      },
      "execution_count": null,
      "outputs": [
        {
          "output_type": "execute_result",
          "data": {
            "text/plain": [
              "['no', 'yes']"
            ]
          },
          "metadata": {},
          "execution_count": 4
        }
      ]
    },
    {
      "cell_type": "code",
      "source": [
        "yes = os.listdir('/content/drive/MyDrive/Colab Notebooks/Data/brain_tumor_dataset/yes')\n",
        "no = os.listdir('/content/drive/MyDrive/Colab Notebooks/Data/brain_tumor_dataset/no')"
      ],
      "metadata": {
        "id": "0HwTRMLRClcw"
      },
      "execution_count": null,
      "outputs": []
    },
    {
      "cell_type": "code",
      "source": [
        "## Combining Entire Yes and No Data Set input \n",
        "data =  np.concatenate([yes ,no])\n",
        "print(\"Data Size\" ,len(data))"
      ],
      "metadata": {
        "colab": {
          "base_uri": "https://localhost:8080/"
        },
        "id": "DKx-dIpkClad",
        "outputId": "b05a2336-0cf2-4bab-acea-859322c12d3e"
      },
      "execution_count": null,
      "outputs": [
        {
          "output_type": "stream",
          "name": "stdout",
          "text": [
            "Data Size 253\n"
          ]
        }
      ]
    },
    {
      "cell_type": "code",
      "source": [
        "## Creating Target Array (1 : Tumar , 0 :Not Tumar)\n",
        "target_x = np.full(len(yes),1)\n",
        "print(len(target_x))\n",
        "target_y = np.full(len(no),0)\n",
        "print(len(target_y))\n",
        "data_target = np.concatenate([target_x,target_y])"
      ],
      "metadata": {
        "id": "GMRiv1rhClX3",
        "colab": {
          "base_uri": "https://localhost:8080/"
        },
        "outputId": "f6be82fe-e4c4-43d8-ae30-41ad03cea4b0"
      },
      "execution_count": null,
      "outputs": [
        {
          "output_type": "stream",
          "name": "stdout",
          "text": [
            "155\n",
            "98\n"
          ]
        }
      ]
    },
    {
      "cell_type": "code",
      "source": [
        "print(data)\n",
        "print(data_target)"
      ],
      "metadata": {
        "id": "IpzI8Ap2ClVg",
        "colab": {
          "base_uri": "https://localhost:8080/"
        },
        "outputId": "cc769218-d6d2-4a03-e2ed-a941c24fa424"
      },
      "execution_count": null,
      "outputs": [
        {
          "output_type": "stream",
          "name": "stdout",
          "text": [
            "['Y101.jpg' 'Y10.jpg' 'Y103.jpg' 'Y102.jpg' 'Y100.JPG' 'Y1.jpg' 'Y105.jpg'\n",
            " 'Y114.JPG' 'Y112.JPG' 'Y115.JPG' 'Y12.jpg' 'Y113.JPG' 'Y109.JPG'\n",
            " 'Y117.JPG' 'Y13.jpg' 'Y108.jpg' 'Y11.jpg' 'Y111.JPG' 'Y106.jpg'\n",
            " 'Y107.jpg' 'Y120.JPG' 'Y116.JPG' 'Y14.jpg' 'Y146.JPG' 'Y104.jpg'\n",
            " 'Y155.JPG' 'Y162.jpg' 'Y156.JPG' 'Y148.JPG' 'Y16.JPG' 'Y159.JPG'\n",
            " 'Y154.jpg' 'Y158.JPG' 'Y163.JPG' 'Y165.JPG' 'Y15.jpg' 'Y160.JPG'\n",
            " 'Y157.JPG' 'Y147.JPG' 'Y161.JPG' 'Y153.jpg' 'Y164.JPG' 'Y168.jpg'\n",
            " 'Y180.jpg' 'Y170.JPG' 'Y183.jpg' 'Y186.jpg' 'Y188.jpg' 'Y17.jpg'\n",
            " 'Y184.JPG' 'Y167.JPG' 'Y187.jpg' 'Y182.JPG' 'Y169.jpg' 'Y181.jpg'\n",
            " 'Y18.JPG' 'Y166.JPG' 'Y185.jpg' 'Y243.JPG' 'Y23.JPG' 'Y2.jpg' 'Y20.jpg'\n",
            " 'Y195.JPG' 'Y194.jpg' 'Y193.JPG' 'Y242.JPG' 'Y22.jpg' 'Y21.jpg'\n",
            " 'Y244.JPG' 'Y19.JPG' 'Y192.JPG' 'Y24.jpg' 'Y259.JPG' 'Y249.JPG' 'Y25.jpg'\n",
            " 'Y251.JPG' 'Y258.JPG' 'Y255.JPG' 'Y26.jpg' 'Y252.jpg' 'Y28.jpg'\n",
            " 'Y250.jpg' 'Y256.JPG' 'Y253.JPG' 'Y257.jpg' 'Y246.JPG' 'Y247.JPG'\n",
            " 'Y27.jpg' 'Y254.jpg' 'Y248.JPG' 'Y245.jpg' 'Y38.jpg' 'Y33.jpg' 'Y4.jpg'\n",
            " 'Y41.jpg' 'Y42.jpg' 'Y40.JPG' 'Y30.jpg' 'Y44.JPG' 'Y29.jpg' 'Y45.JPG'\n",
            " 'Y37.jpg' 'Y31.jpg' 'Y36.JPG' 'Y34.jpg' 'Y39.jpg' 'Y35.jpg' 'Y32.jpg'\n",
            " 'Y3.jpg' 'Y67.JPG' 'Y46.jpg' 'Y59.JPG' 'Y62.jpg' 'Y61.jpg' 'Y65.JPG'\n",
            " 'Y55.jpg' 'Y49.JPG' 'Y47.JPG' 'Y56.jpg' 'Y51.jpg' 'Y6.jpg' 'Y53.jpg'\n",
            " 'Y66.JPG' 'Y58.JPG' 'Y52.jpg' 'Y54.jpg' 'Y50.JPG' 'Y60.jpg' 'Y73.jpg'\n",
            " 'Y79.jpg' 'Y81.jpg' 'Y76.jpg' 'Y75.JPG' 'Y9.jpg' 'Y89.JPG' 'Y69.jpg'\n",
            " 'Y71.JPG' 'Y74.jpg' 'Y82.jpg' 'Y8.jpg' 'Y86.JPG' 'Y7.jpg' 'Y78.jpg'\n",
            " 'Y90.jpg' 'Y85.JPG' 'Y77.jpg' 'Y70.jpg' 'Y97.JPG' 'Y92.jpg' 'Y92.png'\n",
            " 'Y98.JPG' 'Y96.jpg' 'Y95.jpg' 'Y91.jpg' 'Y99.JPG' '12 no.jpg' '1 no.jpeg'\n",
            " '13 no.jpg' '11 no.jpg' '15 no.jpg' '18 no.jpg' '14 no.jpg' '2 no.jpeg'\n",
            " '17 no.jpg' '19 no.jpg' '10 no.jpg' '32 no.jpg' '27 no.jpg' '33 no.jpg'\n",
            " '25 no.jpg' '22 no.jpg' '31 no.jpg' '29 no.jpg' '23 no.jpg' '30 no.jpg'\n",
            " '24 no.jpg' '35 no.jpg' '3 no.jpg' '20 no.jpg' '21 no.jpg' '34 no.jpg'\n",
            " '28 no.jpg' '26 no.jpg' '47 no.jpg' '7 no.jpg' '39 no.jpg' '4 no.jpg'\n",
            " '40 no.jpg' '46 no.jpg' '41 no.jpg' '42 no.jpg' '44no.jpg' '43 no.jpg'\n",
            " '50 no.jpg' '36 no.jpg' '8 no.jpg' '6 no.jpg' '49 no.jpg' '45 no.jpg'\n",
            " '38 no.jpg' '5 no.jpg' '9 no.jpg' '48 no.jpeg' '37 no.jpg' 'No14.jpg'\n",
            " 'N11.jpg' 'N19.JPG' 'N20.JPG' 'N15.jpg' 'N16.jpg' 'N5.jpg' 'N26.JPG'\n",
            " 'N17.jpg' 'N22.JPG' 'No11.jpg' 'No13.jpg' 'No12.jpg' 'N2.JPG' 'N1.JPG'\n",
            " 'N21.jpg' 'N3.jpg' 'N6.jpg' 'No20.jpg' 'No18.jpg' 'No17.jpg' 'no 6.jpg'\n",
            " 'no 89.jpg' 'no 10.jpg' 'No15.jpg' 'no 7.jpeg' 'no 100.jpg' 'No22.jpg'\n",
            " 'No19.jpg' 'No21.jpg' 'no 2.jpg' 'No16.jpg' 'no 3.jpg' 'no 8.jpg'\n",
            " 'no 5.jpeg' 'no 1.jpg' 'no 4.jpg' 'no 98.jpg' 'no 94.jpg' 'no 91.jpeg'\n",
            " 'no.jpg' 'no 92.jpg' 'no 95.jpg' 'no 97.jpg' 'no 96.jpg' 'no 923.jpg'\n",
            " 'no 99.jpg' 'no 9.png' 'no 90.jpg']\n",
            "[1 1 1 1 1 1 1 1 1 1 1 1 1 1 1 1 1 1 1 1 1 1 1 1 1 1 1 1 1 1 1 1 1 1 1 1 1\n",
            " 1 1 1 1 1 1 1 1 1 1 1 1 1 1 1 1 1 1 1 1 1 1 1 1 1 1 1 1 1 1 1 1 1 1 1 1 1\n",
            " 1 1 1 1 1 1 1 1 1 1 1 1 1 1 1 1 1 1 1 1 1 1 1 1 1 1 1 1 1 1 1 1 1 1 1 1 1\n",
            " 1 1 1 1 1 1 1 1 1 1 1 1 1 1 1 1 1 1 1 1 1 1 1 1 1 1 1 1 1 1 1 1 1 1 1 1 1\n",
            " 1 1 1 1 1 1 1 0 0 0 0 0 0 0 0 0 0 0 0 0 0 0 0 0 0 0 0 0 0 0 0 0 0 0 0 0 0\n",
            " 0 0 0 0 0 0 0 0 0 0 0 0 0 0 0 0 0 0 0 0 0 0 0 0 0 0 0 0 0 0 0 0 0 0 0 0 0\n",
            " 0 0 0 0 0 0 0 0 0 0 0 0 0 0 0 0 0 0 0 0 0 0 0 0 0 0 0 0 0 0 0]\n"
          ]
        }
      ]
    },
    {
      "cell_type": "code",
      "source": [
        "yes_values=os.listdir('/content/drive/MyDrive/Colab Notebooks/Data/brain_tumor_dataset/yes')\n",
        "no_values =os.listdir('/content/drive/MyDrive/Colab Notebooks/Data/brain_tumor_dataset/no')"
      ],
      "metadata": {
        "id": "T6xaPNKjClMq"
      },
      "execution_count": null,
      "outputs": []
    },
    {
      "cell_type": "code",
      "source": [
        "X_data =[]\n",
        "for file in yes_values:\n",
        "    img = cv2.imread('/content/drive/MyDrive/Colab Notebooks/Data/brain_tumor_dataset/yes/'+file)\n",
        "    face = cv2.resize(img, (32, 32) )\n",
        "    (b, g, r)=cv2.split(face) \n",
        "    img=cv2.merge([r,g,b])\n",
        "    X_data.append(img)"
      ],
      "metadata": {
        "id": "Z5iKtzb7ClJI"
      },
      "execution_count": null,
      "outputs": []
    },
    {
      "cell_type": "code",
      "source": [
        "for file in no_values:\n",
        "     img = cv2.imread('/content/drive/MyDrive/Colab Notebooks/Data/brain_tumor_dataset/no/'+file)\n",
        "     face = cv2.resize(img, (32, 32) )\n",
        "     (b,g,r) = cv2.split(face)\n",
        "     img = cv2.merge([r,g,b])\n",
        "     X_data.append(img)"
      ],
      "metadata": {
        "id": "PX4LDTw8ClGX"
      },
      "execution_count": null,
      "outputs": []
    },
    {
      "cell_type": "code",
      "source": [
        "### Using Squeeze Function to remove single dimentional entries from \n",
        "## the shape of an array\n",
        "X = np.squeeze(X_data)\n",
        "X.shape"
      ],
      "metadata": {
        "colab": {
          "base_uri": "https://localhost:8080/"
        },
        "id": "ycVeul7GClDI",
        "outputId": "663eca21-ccbe-4143-86f3-4c5054f3a016"
      },
      "execution_count": null,
      "outputs": [
        {
          "output_type": "execute_result",
          "data": {
            "text/plain": [
              "(253, 32, 32, 3)"
            ]
          },
          "metadata": {},
          "execution_count": 12
        }
      ]
    },
    {
      "cell_type": "code",
      "source": [
        "## Normalization \n",
        "X = X.astype('float32')\n",
        "X/=255"
      ],
      "metadata": {
        "id": "bR3f-zewMf1i"
      },
      "execution_count": null,
      "outputs": []
    },
    {
      "cell_type": "code",
      "source": [
        "print(X)"
      ],
      "metadata": {
        "id": "tCos8JMwN_nh",
        "colab": {
          "base_uri": "https://localhost:8080/"
        },
        "outputId": "6715ef80-8d94-42a4-f270-9946e0b8f715"
      },
      "execution_count": null,
      "outputs": [
        {
          "output_type": "stream",
          "name": "stdout",
          "text": [
            "[[[[0.00392157 0.00392157 0.00392157]\n",
            "   [0.         0.         0.        ]\n",
            "   [0.00392157 0.00392157 0.00392157]\n",
            "   ...\n",
            "   [0.         0.         0.        ]\n",
            "   [0.         0.         0.        ]\n",
            "   [0.         0.         0.        ]]\n",
            "\n",
            "  [[0.         0.         0.        ]\n",
            "   [0.         0.         0.        ]\n",
            "   [0.00784314 0.00784314 0.00784314]\n",
            "   ...\n",
            "   [0.         0.         0.        ]\n",
            "   [0.         0.         0.        ]\n",
            "   [0.         0.         0.        ]]\n",
            "\n",
            "  [[0.         0.         0.        ]\n",
            "   [0.         0.         0.        ]\n",
            "   [0.01176471 0.01176471 0.01176471]\n",
            "   ...\n",
            "   [0.00784314 0.00784314 0.00784314]\n",
            "   [0.         0.         0.        ]\n",
            "   [0.         0.         0.        ]]\n",
            "\n",
            "  ...\n",
            "\n",
            "  [[0.         0.         0.        ]\n",
            "   [0.00392157 0.00392157 0.00392157]\n",
            "   [0.00784314 0.00784314 0.00784314]\n",
            "   ...\n",
            "   [0.         0.         0.        ]\n",
            "   [0.         0.         0.        ]\n",
            "   [0.         0.         0.        ]]\n",
            "\n",
            "  [[0.         0.         0.        ]\n",
            "   [0.00392157 0.00392157 0.00392157]\n",
            "   [0.00784314 0.00784314 0.00784314]\n",
            "   ...\n",
            "   [0.00784314 0.00784314 0.00784314]\n",
            "   [0.         0.         0.        ]\n",
            "   [0.         0.         0.        ]]\n",
            "\n",
            "  [[0.00392157 0.00392157 0.00392157]\n",
            "   [0.         0.         0.        ]\n",
            "   [0.00392157 0.00392157 0.00392157]\n",
            "   ...\n",
            "   [0.00784314 0.00784314 0.00784314]\n",
            "   [0.         0.         0.        ]\n",
            "   [0.         0.         0.        ]]]\n",
            "\n",
            "\n",
            " [[[0.09019608 0.09019608 0.09019608]\n",
            "   [0.11372549 0.11372549 0.11372549]\n",
            "   [0.11372549 0.11372549 0.11372549]\n",
            "   ...\n",
            "   [0.09411765 0.09411765 0.09411765]\n",
            "   [0.09803922 0.09803922 0.09803922]\n",
            "   [0.09019608 0.09019608 0.09019608]]\n",
            "\n",
            "  [[0.1254902  0.1254902  0.1254902 ]\n",
            "   [0.10588235 0.10588235 0.10588235]\n",
            "   [0.10588235 0.10588235 0.10588235]\n",
            "   ...\n",
            "   [0.09019608 0.09019608 0.09019608]\n",
            "   [0.10588235 0.10588235 0.10588235]\n",
            "   [0.10980392 0.10980392 0.10980392]]\n",
            "\n",
            "  [[0.1254902  0.1254902  0.1254902 ]\n",
            "   [0.10588235 0.10588235 0.10588235]\n",
            "   [0.10588235 0.10588235 0.10588235]\n",
            "   ...\n",
            "   [0.09019608 0.09019608 0.09019608]\n",
            "   [0.09019608 0.09019608 0.09019608]\n",
            "   [0.10980392 0.10980392 0.10980392]]\n",
            "\n",
            "  ...\n",
            "\n",
            "  [[0.10980392 0.10980392 0.10980392]\n",
            "   [0.10588235 0.10588235 0.10588235]\n",
            "   [0.10588235 0.10588235 0.10588235]\n",
            "   ...\n",
            "   [0.09019608 0.09019608 0.09019608]\n",
            "   [0.09803922 0.09803922 0.09803922]\n",
            "   [0.10980392 0.10980392 0.10980392]]\n",
            "\n",
            "  [[0.10980392 0.10980392 0.10980392]\n",
            "   [0.10588235 0.10588235 0.10588235]\n",
            "   [0.10588235 0.10588235 0.10588235]\n",
            "   ...\n",
            "   [0.10588235 0.10588235 0.10588235]\n",
            "   [0.09803922 0.09803922 0.09803922]\n",
            "   [0.10980392 0.10980392 0.10980392]]\n",
            "\n",
            "  [[0.09019608 0.09019608 0.09019608]\n",
            "   [0.09803922 0.09803922 0.09803922]\n",
            "   [0.09803922 0.09803922 0.09803922]\n",
            "   ...\n",
            "   [0.08627451 0.08627451 0.08627451]\n",
            "   [0.08627451 0.08627451 0.08627451]\n",
            "   [0.08235294 0.08235294 0.08235294]]]\n",
            "\n",
            "\n",
            " [[[0.10196079 0.10196079 0.10196079]\n",
            "   [0.04705882 0.04705882 0.04705882]\n",
            "   [0.0627451  0.0627451  0.0627451 ]\n",
            "   ...\n",
            "   [0.07843138 0.07843138 0.07843138]\n",
            "   [0.07843138 0.07843138 0.07843138]\n",
            "   [0.07843138 0.07843138 0.07843138]]\n",
            "\n",
            "  [[0.10588235 0.10588235 0.10588235]\n",
            "   [0.08627451 0.08627451 0.08627451]\n",
            "   [0.07843138 0.07843138 0.07843138]\n",
            "   ...\n",
            "   [0.09019608 0.09019608 0.09019608]\n",
            "   [0.09411765 0.09411765 0.09411765]\n",
            "   [0.08627451 0.08627451 0.08627451]]\n",
            "\n",
            "  [[0.07058824 0.07058824 0.07058824]\n",
            "   [0.07058824 0.07058824 0.07058824]\n",
            "   [0.07058824 0.07058824 0.07058824]\n",
            "   ...\n",
            "   [0.08627451 0.08627451 0.08627451]\n",
            "   [0.09411765 0.09411765 0.09411765]\n",
            "   [0.09803922 0.09803922 0.09803922]]\n",
            "\n",
            "  ...\n",
            "\n",
            "  [[0.06666667 0.06666667 0.06666667]\n",
            "   [0.06666667 0.06666667 0.06666667]\n",
            "   [0.07058824 0.07058824 0.07058824]\n",
            "   ...\n",
            "   [0.08627451 0.08627451 0.08627451]\n",
            "   [0.09019608 0.09019608 0.09019608]\n",
            "   [0.09411765 0.09411765 0.09411765]]\n",
            "\n",
            "  [[0.06666667 0.06666667 0.06666667]\n",
            "   [0.0627451  0.0627451  0.0627451 ]\n",
            "   [0.07058824 0.07058824 0.07058824]\n",
            "   ...\n",
            "   [0.07058824 0.07058824 0.07058824]\n",
            "   [0.08627451 0.08627451 0.08627451]\n",
            "   [0.09411765 0.09411765 0.09411765]]\n",
            "\n",
            "  [[0.07058824 0.07058824 0.07058824]\n",
            "   [0.06666667 0.06666667 0.06666667]\n",
            "   [0.05882353 0.05882353 0.05882353]\n",
            "   ...\n",
            "   [0.07843138 0.07843138 0.07843138]\n",
            "   [0.07843138 0.07843138 0.07843138]\n",
            "   [0.09019608 0.09019608 0.09019608]]]\n",
            "\n",
            "\n",
            " ...\n",
            "\n",
            "\n",
            " [[[0.         0.         0.        ]\n",
            "   [0.         0.         0.        ]\n",
            "   [0.         0.         0.        ]\n",
            "   ...\n",
            "   [0.         0.         0.        ]\n",
            "   [0.         0.         0.        ]\n",
            "   [0.         0.         0.        ]]\n",
            "\n",
            "  [[0.         0.         0.        ]\n",
            "   [0.         0.         0.        ]\n",
            "   [0.         0.         0.        ]\n",
            "   ...\n",
            "   [0.         0.         0.        ]\n",
            "   [0.         0.         0.        ]\n",
            "   [0.         0.         0.        ]]\n",
            "\n",
            "  [[0.         0.         0.        ]\n",
            "   [0.         0.         0.        ]\n",
            "   [0.         0.         0.        ]\n",
            "   ...\n",
            "   [0.         0.         0.        ]\n",
            "   [0.         0.         0.        ]\n",
            "   [0.         0.         0.        ]]\n",
            "\n",
            "  ...\n",
            "\n",
            "  [[0.         0.         0.        ]\n",
            "   [0.         0.         0.        ]\n",
            "   [0.         0.         0.        ]\n",
            "   ...\n",
            "   [0.         0.         0.        ]\n",
            "   [0.         0.         0.        ]\n",
            "   [0.         0.         0.        ]]\n",
            "\n",
            "  [[0.         0.         0.        ]\n",
            "   [0.         0.         0.        ]\n",
            "   [0.         0.         0.        ]\n",
            "   ...\n",
            "   [0.         0.         0.        ]\n",
            "   [0.         0.         0.        ]\n",
            "   [0.         0.         0.        ]]\n",
            "\n",
            "  [[0.         0.         0.        ]\n",
            "   [0.         0.         0.        ]\n",
            "   [0.         0.         0.        ]\n",
            "   ...\n",
            "   [0.         0.         0.        ]\n",
            "   [0.         0.         0.        ]\n",
            "   [0.         0.         0.        ]]]\n",
            "\n",
            "\n",
            " [[[0.         0.         0.        ]\n",
            "   [0.         0.         0.        ]\n",
            "   [0.         0.         0.        ]\n",
            "   ...\n",
            "   [0.         0.         0.        ]\n",
            "   [0.         0.         0.        ]\n",
            "   [0.         0.         0.        ]]\n",
            "\n",
            "  [[0.         0.         0.        ]\n",
            "   [0.         0.         0.        ]\n",
            "   [0.         0.         0.        ]\n",
            "   ...\n",
            "   [0.         0.         0.        ]\n",
            "   [0.         0.         0.        ]\n",
            "   [0.         0.         0.        ]]\n",
            "\n",
            "  [[0.         0.         0.        ]\n",
            "   [0.         0.         0.        ]\n",
            "   [0.         0.         0.        ]\n",
            "   ...\n",
            "   [0.         0.         0.        ]\n",
            "   [0.         0.         0.        ]\n",
            "   [0.         0.         0.        ]]\n",
            "\n",
            "  ...\n",
            "\n",
            "  [[0.         0.         0.        ]\n",
            "   [0.         0.         0.        ]\n",
            "   [0.         0.         0.        ]\n",
            "   ...\n",
            "   [0.         0.         0.        ]\n",
            "   [0.         0.         0.        ]\n",
            "   [0.         0.         0.        ]]\n",
            "\n",
            "  [[0.         0.         0.        ]\n",
            "   [0.         0.         0.        ]\n",
            "   [0.         0.         0.        ]\n",
            "   ...\n",
            "   [0.         0.         0.        ]\n",
            "   [0.         0.         0.        ]\n",
            "   [0.         0.         0.        ]]\n",
            "\n",
            "  [[0.         0.         0.        ]\n",
            "   [0.         0.         0.        ]\n",
            "   [0.         0.         0.        ]\n",
            "   ...\n",
            "   [0.         0.         0.        ]\n",
            "   [0.         0.         0.        ]\n",
            "   [0.         0.         0.        ]]]\n",
            "\n",
            "\n",
            " [[[0.         0.         0.        ]\n",
            "   [0.         0.         0.        ]\n",
            "   [0.         0.         0.        ]\n",
            "   ...\n",
            "   [0.         0.         0.        ]\n",
            "   [0.         0.         0.        ]\n",
            "   [0.         0.         0.        ]]\n",
            "\n",
            "  [[0.         0.         0.        ]\n",
            "   [0.         0.         0.        ]\n",
            "   [0.         0.         0.        ]\n",
            "   ...\n",
            "   [0.         0.         0.        ]\n",
            "   [0.         0.         0.        ]\n",
            "   [0.         0.         0.        ]]\n",
            "\n",
            "  [[0.         0.         0.        ]\n",
            "   [0.         0.         0.        ]\n",
            "   [0.         0.         0.        ]\n",
            "   ...\n",
            "   [0.         0.         0.        ]\n",
            "   [0.         0.         0.        ]\n",
            "   [0.         0.         0.        ]]\n",
            "\n",
            "  ...\n",
            "\n",
            "  [[0.         0.         0.        ]\n",
            "   [0.         0.         0.        ]\n",
            "   [0.         0.         0.        ]\n",
            "   ...\n",
            "   [0.         0.         0.        ]\n",
            "   [0.         0.         0.        ]\n",
            "   [0.         0.         0.        ]]\n",
            "\n",
            "  [[0.         0.         0.        ]\n",
            "   [0.         0.         0.        ]\n",
            "   [0.         0.         0.        ]\n",
            "   ...\n",
            "   [0.         0.         0.        ]\n",
            "   [0.         0.         0.        ]\n",
            "   [0.         0.         0.        ]]\n",
            "\n",
            "  [[0.         0.         0.        ]\n",
            "   [0.         0.         0.        ]\n",
            "   [0.         0.         0.        ]\n",
            "   ...\n",
            "   [0.         0.         0.        ]\n",
            "   [0.         0.         0.        ]\n",
            "   [0.         0.         0.        ]]]]\n"
          ]
        }
      ]
    },
    {
      "cell_type": "code",
      "source": [
        "## Split Testing and Training Data\n",
        "(x_train, y_train)= (X[40:190],data_target[40:190]) \n",
        "x_test = np.concatenate([X[:40],X[190:]])\n",
        "y_test = np.concatenate([data_target[:40],data_target[190:]])\n",
        "(x_valid , y_valid) = (x_test[20:55], y_test[20:55])\n",
        "print(x_train.shape)\n",
        "print(x_test.shape)\n",
        "print(y_valid)\n",
        "print(y_test)"
      ],
      "metadata": {
        "id": "oeA50UYHOBVA",
        "colab": {
          "base_uri": "https://localhost:8080/"
        },
        "outputId": "24198d79-78c4-454d-f89c-ffdeff5b7f7f"
      },
      "execution_count": null,
      "outputs": [
        {
          "output_type": "stream",
          "name": "stdout",
          "text": [
            "(150, 32, 32, 3)\n",
            "(103, 32, 32, 3)\n",
            "[1 1 1 1 1 1 1 1 1 1 1 1 1 1 1 1 1 1 1 1 0 0 0 0 0 0 0 0 0 0 0 0 0 0 0]\n",
            "[1 1 1 1 1 1 1 1 1 1 1 1 1 1 1 1 1 1 1 1 1 1 1 1 1 1 1 1 1 1 1 1 1 1 1 1 1\n",
            " 1 1 1 0 0 0 0 0 0 0 0 0 0 0 0 0 0 0 0 0 0 0 0 0 0 0 0 0 0 0 0 0 0 0 0 0 0\n",
            " 0 0 0 0 0 0 0 0 0 0 0 0 0 0 0 0 0 0 0 0 0 0 0 0 0 0 0 0 0]\n"
          ]
        }
      ]
    },
    {
      "cell_type": "code",
      "source": [
        "model = tf.keras.Sequential()\n",
        "\n",
        "# Must define the input shape in the first layer of the neural network\n",
        "model.add(tf.keras.layers.Conv2D(filters=16,kernel_size=9, padding='same', activation='relu', input_shape=(32,32,3))) \n",
        "model.add(tf.keras.layers.MaxPooling2D(pool_size=2))\n",
        "model.add(tf.keras.layers.Dropout(0.45))\n",
        "\n",
        "model.add(tf.keras.layers.Conv2D(filters=16,kernel_size=9,padding='same', activation='relu'))\n",
        "model.add(tf.keras.layers.MaxPooling2D(pool_size=2))\n",
        "model.add(tf.keras.layers.Dropout(0.25))\n",
        "\n",
        "model.add(tf.keras.layers.Conv2D(filters=36, kernel_size=9, padding='same', activation='relu'))\n",
        "model.add(tf.keras.layers.MaxPooling2D(pool_size=2))\n",
        "model.add(tf.keras.layers.Dropout(0.25))\n",
        "\n",
        "model.add(tf.keras.layers.Flatten())\n",
        "\n",
        "model.add(tf.keras.layers.Dense(512, activation='relu'))\n",
        "model.add(tf.keras.layers.Dropout(0.15))\n",
        "\n",
        "\n",
        "model.add(tf.keras.layers.Dense(1, activation='sigmoid'))\n",
        "\n",
        "# Take a look at the model summary\n",
        "model.summary()"
      ],
      "metadata": {
        "colab": {
          "base_uri": "https://localhost:8080/"
        },
        "id": "Js0rX-0PPYy7",
        "outputId": "47f06a5a-b2a7-4a57-8d0a-3e7a26b81110"
      },
      "execution_count": null,
      "outputs": [
        {
          "output_type": "stream",
          "name": "stdout",
          "text": [
            "Model: \"sequential_2\"\n",
            "_________________________________________________________________\n",
            " Layer (type)                Output Shape              Param #   \n",
            "=================================================================\n",
            " conv2d_6 (Conv2D)           (None, 32, 32, 16)        3904      \n",
            "                                                                 \n",
            " max_pooling2d_6 (MaxPooling  (None, 16, 16, 16)       0         \n",
            " 2D)                                                             \n",
            "                                                                 \n",
            " dropout_8 (Dropout)         (None, 16, 16, 16)        0         \n",
            "                                                                 \n",
            " conv2d_7 (Conv2D)           (None, 16, 16, 16)        20752     \n",
            "                                                                 \n",
            " max_pooling2d_7 (MaxPooling  (None, 8, 8, 16)         0         \n",
            " 2D)                                                             \n",
            "                                                                 \n",
            " dropout_9 (Dropout)         (None, 8, 8, 16)          0         \n",
            "                                                                 \n",
            " conv2d_8 (Conv2D)           (None, 8, 8, 36)          46692     \n",
            "                                                                 \n",
            " max_pooling2d_8 (MaxPooling  (None, 4, 4, 36)         0         \n",
            " 2D)                                                             \n",
            "                                                                 \n",
            " dropout_10 (Dropout)        (None, 4, 4, 36)          0         \n",
            "                                                                 \n",
            " flatten_2 (Flatten)         (None, 576)               0         \n",
            "                                                                 \n",
            " dense_4 (Dense)             (None, 512)               295424    \n",
            "                                                                 \n",
            " dropout_11 (Dropout)        (None, 512)               0         \n",
            "                                                                 \n",
            " dense_5 (Dense)             (None, 1)                 513       \n",
            "                                                                 \n",
            "=================================================================\n",
            "Total params: 367,285\n",
            "Trainable params: 367,285\n",
            "Non-trainable params: 0\n",
            "_________________________________________________________________\n"
          ]
        }
      ]
    },
    {
      "cell_type": "code",
      "source": [
        "model.compile(loss='binary_crossentropy',\n",
        "             optimizer=tf.keras.optimizers.Adam(),\n",
        "             metrics=['acc'])"
      ],
      "metadata": {
        "id": "3UqMFxD6Ptd1"
      },
      "execution_count": null,
      "outputs": []
    },
    {
      "cell_type": "code",
      "source": [
        "model.fit(x_train,\n",
        "         y_train,\n",
        "         batch_size=128,\n",
        "         epochs=50,\n",
        "         validation_data=(x_valid, y_valid),)"
      ],
      "metadata": {
        "colab": {
          "base_uri": "https://localhost:8080/"
        },
        "id": "nbSYM4BzWP8i",
        "outputId": "70655fb1-ad86-4afb-add3-864f5cfbc70b"
      },
      "execution_count": null,
      "outputs": [
        {
          "output_type": "stream",
          "name": "stdout",
          "text": [
            "Epoch 1/50\n",
            "2/2 [==============================] - 2s 386ms/step - loss: 0.7097 - acc: 0.3400 - val_loss: 0.6838 - val_acc: 0.5714\n",
            "Epoch 2/50\n",
            "2/2 [==============================] - 1s 182ms/step - loss: 0.5712 - acc: 0.7667 - val_loss: 0.6562 - val_acc: 0.5714\n",
            "Epoch 3/50\n",
            "2/2 [==============================] - 1s 169ms/step - loss: 0.5327 - acc: 0.7667 - val_loss: 0.6664 - val_acc: 0.5714\n",
            "Epoch 4/50\n",
            "2/2 [==============================] - 1s 193ms/step - loss: 0.5875 - acc: 0.7667 - val_loss: 0.6672 - val_acc: 0.5714\n",
            "Epoch 5/50\n",
            "2/2 [==============================] - 1s 181ms/step - loss: 0.5868 - acc: 0.7667 - val_loss: 0.6518 - val_acc: 0.5714\n",
            "Epoch 6/50\n",
            "2/2 [==============================] - 1s 193ms/step - loss: 0.5396 - acc: 0.7667 - val_loss: 0.6506 - val_acc: 0.5714\n",
            "Epoch 7/50\n",
            "2/2 [==============================] - 1s 163ms/step - loss: 0.5673 - acc: 0.7667 - val_loss: 0.6486 - val_acc: 0.5714\n",
            "Epoch 8/50\n",
            "2/2 [==============================] - 1s 164ms/step - loss: 0.5684 - acc: 0.7667 - val_loss: 0.6368 - val_acc: 0.5714\n",
            "Epoch 9/50\n",
            "2/2 [==============================] - 1s 176ms/step - loss: 0.5258 - acc: 0.7667 - val_loss: 0.6422 - val_acc: 0.5714\n",
            "Epoch 10/50\n",
            "2/2 [==============================] - 1s 186ms/step - loss: 0.5288 - acc: 0.7667 - val_loss: 0.6377 - val_acc: 0.5714\n",
            "Epoch 11/50\n",
            "2/2 [==============================] - 1s 295ms/step - loss: 0.5244 - acc: 0.7667 - val_loss: 0.6265 - val_acc: 0.5714\n",
            "Epoch 12/50\n",
            "2/2 [==============================] - 1s 403ms/step - loss: 0.5220 - acc: 0.7667 - val_loss: 0.6219 - val_acc: 0.5714\n",
            "Epoch 13/50\n",
            "2/2 [==============================] - 2s 391ms/step - loss: 0.5279 - acc: 0.7667 - val_loss: 0.6170 - val_acc: 0.5714\n",
            "Epoch 14/50\n",
            "2/2 [==============================] - 1s 189ms/step - loss: 0.5109 - acc: 0.7667 - val_loss: 0.6185 - val_acc: 0.5714\n",
            "Epoch 15/50\n",
            "2/2 [==============================] - 1s 227ms/step - loss: 0.5047 - acc: 0.7667 - val_loss: 0.6241 - val_acc: 0.5714\n",
            "Epoch 16/50\n",
            "2/2 [==============================] - 1s 212ms/step - loss: 0.5075 - acc: 0.7667 - val_loss: 0.6266 - val_acc: 0.5714\n",
            "Epoch 17/50\n",
            "2/2 [==============================] - 1s 171ms/step - loss: 0.5136 - acc: 0.7667 - val_loss: 0.6043 - val_acc: 0.5714\n",
            "Epoch 18/50\n",
            "2/2 [==============================] - 1s 189ms/step - loss: 0.4969 - acc: 0.7667 - val_loss: 0.5709 - val_acc: 0.5714\n",
            "Epoch 19/50\n",
            "2/2 [==============================] - 1s 177ms/step - loss: 0.5041 - acc: 0.7667 - val_loss: 0.5602 - val_acc: 0.5714\n",
            "Epoch 20/50\n",
            "2/2 [==============================] - 1s 191ms/step - loss: 0.4925 - acc: 0.7667 - val_loss: 0.6036 - val_acc: 0.5714\n",
            "Epoch 21/50\n",
            "2/2 [==============================] - 1s 191ms/step - loss: 0.5013 - acc: 0.7667 - val_loss: 0.5856 - val_acc: 0.5714\n",
            "Epoch 22/50\n",
            "2/2 [==============================] - 1s 166ms/step - loss: 0.4908 - acc: 0.7667 - val_loss: 0.5570 - val_acc: 0.5714\n",
            "Epoch 23/50\n",
            "2/2 [==============================] - 1s 182ms/step - loss: 0.4791 - acc: 0.7667 - val_loss: 0.5426 - val_acc: 0.5714\n",
            "Epoch 24/50\n",
            "2/2 [==============================] - 1s 192ms/step - loss: 0.4761 - acc: 0.7667 - val_loss: 0.5447 - val_acc: 0.5714\n",
            "Epoch 25/50\n",
            "2/2 [==============================] - 1s 171ms/step - loss: 0.4591 - acc: 0.7667 - val_loss: 0.5387 - val_acc: 0.5714\n",
            "Epoch 26/50\n",
            "2/2 [==============================] - 1s 172ms/step - loss: 0.4665 - acc: 0.7667 - val_loss: 0.5187 - val_acc: 0.5714\n",
            "Epoch 27/50\n",
            "2/2 [==============================] - 1s 195ms/step - loss: 0.4567 - acc: 0.7667 - val_loss: 0.5011 - val_acc: 0.5714\n",
            "Epoch 28/50\n",
            "2/2 [==============================] - 1s 321ms/step - loss: 0.4461 - acc: 0.7667 - val_loss: 0.4993 - val_acc: 0.5714\n",
            "Epoch 29/50\n",
            "2/2 [==============================] - 2s 397ms/step - loss: 0.4483 - acc: 0.7667 - val_loss: 0.5001 - val_acc: 0.5714\n",
            "Epoch 30/50\n",
            "2/2 [==============================] - 1s 298ms/step - loss: 0.4449 - acc: 0.7667 - val_loss: 0.4707 - val_acc: 0.5714\n",
            "Epoch 31/50\n",
            "2/2 [==============================] - 1s 199ms/step - loss: 0.4301 - acc: 0.7667 - val_loss: 0.4685 - val_acc: 0.6571\n",
            "Epoch 32/50\n",
            "2/2 [==============================] - 1s 192ms/step - loss: 0.4283 - acc: 0.7667 - val_loss: 0.4875 - val_acc: 0.7714\n",
            "Epoch 33/50\n",
            "2/2 [==============================] - 1s 180ms/step - loss: 0.4217 - acc: 0.7733 - val_loss: 0.4929 - val_acc: 0.8286\n",
            "Epoch 34/50\n",
            "2/2 [==============================] - 1s 195ms/step - loss: 0.4163 - acc: 0.7867 - val_loss: 0.4719 - val_acc: 0.8000\n",
            "Epoch 35/50\n",
            "2/2 [==============================] - 1s 174ms/step - loss: 0.3937 - acc: 0.7800 - val_loss: 0.4808 - val_acc: 0.7143\n",
            "Epoch 36/50\n",
            "2/2 [==============================] - 1s 167ms/step - loss: 0.4355 - acc: 0.7733 - val_loss: 0.4716 - val_acc: 0.8000\n",
            "Epoch 37/50\n",
            "2/2 [==============================] - 1s 176ms/step - loss: 0.3944 - acc: 0.7867 - val_loss: 0.4771 - val_acc: 0.8286\n",
            "Epoch 38/50\n",
            "2/2 [==============================] - 1s 166ms/step - loss: 0.3815 - acc: 0.8667 - val_loss: 0.4625 - val_acc: 0.8286\n",
            "Epoch 39/50\n",
            "2/2 [==============================] - 1s 165ms/step - loss: 0.3787 - acc: 0.8400 - val_loss: 0.4506 - val_acc: 0.8286\n",
            "Epoch 40/50\n",
            "2/2 [==============================] - 1s 209ms/step - loss: 0.3429 - acc: 0.8667 - val_loss: 0.4564 - val_acc: 0.8571\n",
            "Epoch 41/50\n",
            "2/2 [==============================] - 1s 190ms/step - loss: 0.3669 - acc: 0.8400 - val_loss: 0.3926 - val_acc: 0.8286\n",
            "Epoch 42/50\n",
            "2/2 [==============================] - 1s 187ms/step - loss: 0.4136 - acc: 0.8267 - val_loss: 0.3947 - val_acc: 0.8571\n",
            "Epoch 43/50\n",
            "2/2 [==============================] - 1s 177ms/step - loss: 0.3443 - acc: 0.8667 - val_loss: 0.4600 - val_acc: 0.8000\n",
            "Epoch 44/50\n",
            "2/2 [==============================] - 1s 194ms/step - loss: 0.3618 - acc: 0.8533 - val_loss: 0.4515 - val_acc: 0.8000\n",
            "Epoch 45/50\n",
            "2/2 [==============================] - 1s 329ms/step - loss: 0.3242 - acc: 0.8733 - val_loss: 0.4607 - val_acc: 0.8286\n",
            "Epoch 46/50\n",
            "2/2 [==============================] - 1s 380ms/step - loss: 0.3494 - acc: 0.8400 - val_loss: 0.4777 - val_acc: 0.7714\n",
            "Epoch 47/50\n",
            "2/2 [==============================] - 1s 380ms/step - loss: 0.3557 - acc: 0.8400 - val_loss: 0.4304 - val_acc: 0.8000\n",
            "Epoch 48/50\n",
            "2/2 [==============================] - 1s 201ms/step - loss: 0.3058 - acc: 0.9000 - val_loss: 0.4624 - val_acc: 0.7714\n",
            "Epoch 49/50\n",
            "2/2 [==============================] - 1s 165ms/step - loss: 0.4062 - acc: 0.7933 - val_loss: 0.4000 - val_acc: 0.8000\n",
            "Epoch 50/50\n",
            "2/2 [==============================] - 1s 190ms/step - loss: 0.2993 - acc: 0.8667 - val_loss: 0.4727 - val_acc: 0.8286\n"
          ]
        },
        {
          "output_type": "execute_result",
          "data": {
            "text/plain": [
              "<keras.callbacks.History at 0x7fbddb704670>"
            ]
          },
          "metadata": {},
          "execution_count": 70
        }
      ]
    },
    {
      "cell_type": "code",
      "source": [
        "from IPython.display import SVG\n",
        "from keras.utils.vis_utils import model_to_dot\n",
        "SVG(model_to_dot(model,show_shapes = True).create(prog='dot', format='svg'))"
      ],
      "metadata": {
        "colab": {
          "base_uri": "https://localhost:8080/",
          "height": 1000
        },
        "id": "1pw1qaKIWP5T",
        "outputId": "b9385c57-e1cd-4913-bce3-674eff4b4513"
      },
      "execution_count": null,
      "outputs": [
        {
          "output_type": "execute_result",
          "data": {
            "text/plain": [
              "<IPython.core.display.SVG object>"
            ],
            "image/svg+xml": "<svg xmlns=\"http://www.w3.org/2000/svg\" xmlns:xlink=\"http://www.w3.org/1999/xlink\" width=\"396pt\" height=\"1512pt\" viewBox=\"0.00 0.00 297.00 1134.00\">\n<g id=\"graph0\" class=\"graph\" transform=\"scale(0.75 0.75) rotate(0) translate(4 1130)\">\n<title>G</title>\n<polygon fill=\"white\" stroke=\"transparent\" points=\"-4,4 -4,-1130 293,-1130 293,4 -4,4\"/>\n<!-- 140453424324464 -->\n<g id=\"node1\" class=\"node\">\n<title>140453424324464</title>\n<polygon fill=\"none\" stroke=\"black\" points=\"5,-1079.5 5,-1125.5 284,-1125.5 284,-1079.5 5,-1079.5\"/>\n<text text-anchor=\"middle\" x=\"57\" y=\"-1110.3\" font-family=\"Times,serif\" font-size=\"14.00\">conv2d_6_input</text>\n<polyline fill=\"none\" stroke=\"black\" points=\"5,-1102.5 109,-1102.5 \"/>\n<text text-anchor=\"middle\" x=\"57\" y=\"-1087.3\" font-family=\"Times,serif\" font-size=\"14.00\">InputLayer</text>\n<polyline fill=\"none\" stroke=\"black\" points=\"109,-1079.5 109,-1125.5 \"/>\n<text text-anchor=\"middle\" x=\"136.5\" y=\"-1110.3\" font-family=\"Times,serif\" font-size=\"14.00\">input:</text>\n<polyline fill=\"none\" stroke=\"black\" points=\"109,-1102.5 164,-1102.5 \"/>\n<text text-anchor=\"middle\" x=\"136.5\" y=\"-1087.3\" font-family=\"Times,serif\" font-size=\"14.00\">output:</text>\n<polyline fill=\"none\" stroke=\"black\" points=\"164,-1079.5 164,-1125.5 \"/>\n<text text-anchor=\"middle\" x=\"224\" y=\"-1110.3\" font-family=\"Times,serif\" font-size=\"14.00\">[(None, 32, 32, 3)]</text>\n<polyline fill=\"none\" stroke=\"black\" points=\"164,-1102.5 284,-1102.5 \"/>\n<text text-anchor=\"middle\" x=\"224\" y=\"-1087.3\" font-family=\"Times,serif\" font-size=\"14.00\">[(None, 32, 32, 3)]</text>\n</g>\n<!-- 140453330307872 -->\n<g id=\"node2\" class=\"node\">\n<title>140453330307872</title>\n<polygon fill=\"none\" stroke=\"black\" points=\"23,-996.5 23,-1042.5 266,-1042.5 266,-996.5 23,-996.5\"/>\n<text text-anchor=\"middle\" x=\"58\" y=\"-1027.3\" font-family=\"Times,serif\" font-size=\"14.00\">conv2d_6</text>\n<polyline fill=\"none\" stroke=\"black\" points=\"23,-1019.5 93,-1019.5 \"/>\n<text text-anchor=\"middle\" x=\"58\" y=\"-1004.3\" font-family=\"Times,serif\" font-size=\"14.00\">Conv2D</text>\n<polyline fill=\"none\" stroke=\"black\" points=\"93,-996.5 93,-1042.5 \"/>\n<text text-anchor=\"middle\" x=\"120.5\" y=\"-1027.3\" font-family=\"Times,serif\" font-size=\"14.00\">input:</text>\n<polyline fill=\"none\" stroke=\"black\" points=\"93,-1019.5 148,-1019.5 \"/>\n<text text-anchor=\"middle\" x=\"120.5\" y=\"-1004.3\" font-family=\"Times,serif\" font-size=\"14.00\">output:</text>\n<polyline fill=\"none\" stroke=\"black\" points=\"148,-996.5 148,-1042.5 \"/>\n<text text-anchor=\"middle\" x=\"207\" y=\"-1027.3\" font-family=\"Times,serif\" font-size=\"14.00\">(None, 32, 32, 3)</text>\n<polyline fill=\"none\" stroke=\"black\" points=\"148,-1019.5 266,-1019.5 \"/>\n<text text-anchor=\"middle\" x=\"207\" y=\"-1004.3\" font-family=\"Times,serif\" font-size=\"14.00\">(None, 32, 32, 16)</text>\n</g>\n<!-- 140453424324464&#45;&gt;140453330307872 -->\n<g id=\"edge1\" class=\"edge\">\n<title>140453424324464-&gt;140453330307872</title>\n<path fill=\"none\" stroke=\"black\" d=\"M144.5,-1079.37C144.5,-1071.15 144.5,-1061.66 144.5,-1052.73\"/>\n<polygon fill=\"black\" stroke=\"black\" points=\"148,-1052.61 144.5,-1042.61 141,-1052.61 148,-1052.61\"/>\n</g>\n<!-- 140453327761952 -->\n<g id=\"node3\" class=\"node\">\n<title>140453327761952</title>\n<polygon fill=\"none\" stroke=\"black\" points=\"0,-913.5 0,-959.5 289,-959.5 289,-913.5 0,-913.5\"/>\n<text text-anchor=\"middle\" x=\"58\" y=\"-944.3\" font-family=\"Times,serif\" font-size=\"14.00\">max_pooling2d_6</text>\n<polyline fill=\"none\" stroke=\"black\" points=\"0,-936.5 116,-936.5 \"/>\n<text text-anchor=\"middle\" x=\"58\" y=\"-921.3\" font-family=\"Times,serif\" font-size=\"14.00\">MaxPooling2D</text>\n<polyline fill=\"none\" stroke=\"black\" points=\"116,-913.5 116,-959.5 \"/>\n<text text-anchor=\"middle\" x=\"143.5\" y=\"-944.3\" font-family=\"Times,serif\" font-size=\"14.00\">input:</text>\n<polyline fill=\"none\" stroke=\"black\" points=\"116,-936.5 171,-936.5 \"/>\n<text text-anchor=\"middle\" x=\"143.5\" y=\"-921.3\" font-family=\"Times,serif\" font-size=\"14.00\">output:</text>\n<polyline fill=\"none\" stroke=\"black\" points=\"171,-913.5 171,-959.5 \"/>\n<text text-anchor=\"middle\" x=\"230\" y=\"-944.3\" font-family=\"Times,serif\" font-size=\"14.00\">(None, 32, 32, 16)</text>\n<polyline fill=\"none\" stroke=\"black\" points=\"171,-936.5 289,-936.5 \"/>\n<text text-anchor=\"middle\" x=\"230\" y=\"-921.3\" font-family=\"Times,serif\" font-size=\"14.00\">(None, 16, 16, 16)</text>\n</g>\n<!-- 140453330307872&#45;&gt;140453327761952 -->\n<g id=\"edge2\" class=\"edge\">\n<title>140453330307872-&gt;140453327761952</title>\n<path fill=\"none\" stroke=\"black\" d=\"M144.5,-996.37C144.5,-988.15 144.5,-978.66 144.5,-969.73\"/>\n<polygon fill=\"black\" stroke=\"black\" points=\"148,-969.61 144.5,-959.61 141,-969.61 148,-969.61\"/>\n</g>\n<!-- 140453407528608 -->\n<g id=\"node4\" class=\"node\">\n<title>140453407528608</title>\n<polygon fill=\"none\" stroke=\"black\" points=\"22,-830.5 22,-876.5 267,-876.5 267,-830.5 22,-830.5\"/>\n<text text-anchor=\"middle\" x=\"58\" y=\"-861.3\" font-family=\"Times,serif\" font-size=\"14.00\">dropout_8</text>\n<polyline fill=\"none\" stroke=\"black\" points=\"22,-853.5 94,-853.5 \"/>\n<text text-anchor=\"middle\" x=\"58\" y=\"-838.3\" font-family=\"Times,serif\" font-size=\"14.00\">Dropout</text>\n<polyline fill=\"none\" stroke=\"black\" points=\"94,-830.5 94,-876.5 \"/>\n<text text-anchor=\"middle\" x=\"121.5\" y=\"-861.3\" font-family=\"Times,serif\" font-size=\"14.00\">input:</text>\n<polyline fill=\"none\" stroke=\"black\" points=\"94,-853.5 149,-853.5 \"/>\n<text text-anchor=\"middle\" x=\"121.5\" y=\"-838.3\" font-family=\"Times,serif\" font-size=\"14.00\">output:</text>\n<polyline fill=\"none\" stroke=\"black\" points=\"149,-830.5 149,-876.5 \"/>\n<text text-anchor=\"middle\" x=\"208\" y=\"-861.3\" font-family=\"Times,serif\" font-size=\"14.00\">(None, 16, 16, 16)</text>\n<polyline fill=\"none\" stroke=\"black\" points=\"149,-853.5 267,-853.5 \"/>\n<text text-anchor=\"middle\" x=\"208\" y=\"-838.3\" font-family=\"Times,serif\" font-size=\"14.00\">(None, 16, 16, 16)</text>\n</g>\n<!-- 140453327761952&#45;&gt;140453407528608 -->\n<g id=\"edge3\" class=\"edge\">\n<title>140453327761952-&gt;140453407528608</title>\n<path fill=\"none\" stroke=\"black\" d=\"M144.5,-913.37C144.5,-905.15 144.5,-895.66 144.5,-886.73\"/>\n<polygon fill=\"black\" stroke=\"black\" points=\"148,-886.61 144.5,-876.61 141,-886.61 148,-886.61\"/>\n</g>\n<!-- 140453407097328 -->\n<g id=\"node5\" class=\"node\">\n<title>140453407097328</title>\n<polygon fill=\"none\" stroke=\"black\" points=\"23,-747.5 23,-793.5 266,-793.5 266,-747.5 23,-747.5\"/>\n<text text-anchor=\"middle\" x=\"58\" y=\"-778.3\" font-family=\"Times,serif\" font-size=\"14.00\">conv2d_7</text>\n<polyline fill=\"none\" stroke=\"black\" points=\"23,-770.5 93,-770.5 \"/>\n<text text-anchor=\"middle\" x=\"58\" y=\"-755.3\" font-family=\"Times,serif\" font-size=\"14.00\">Conv2D</text>\n<polyline fill=\"none\" stroke=\"black\" points=\"93,-747.5 93,-793.5 \"/>\n<text text-anchor=\"middle\" x=\"120.5\" y=\"-778.3\" font-family=\"Times,serif\" font-size=\"14.00\">input:</text>\n<polyline fill=\"none\" stroke=\"black\" points=\"93,-770.5 148,-770.5 \"/>\n<text text-anchor=\"middle\" x=\"120.5\" y=\"-755.3\" font-family=\"Times,serif\" font-size=\"14.00\">output:</text>\n<polyline fill=\"none\" stroke=\"black\" points=\"148,-747.5 148,-793.5 \"/>\n<text text-anchor=\"middle\" x=\"207\" y=\"-778.3\" font-family=\"Times,serif\" font-size=\"14.00\">(None, 16, 16, 16)</text>\n<polyline fill=\"none\" stroke=\"black\" points=\"148,-770.5 266,-770.5 \"/>\n<text text-anchor=\"middle\" x=\"207\" y=\"-755.3\" font-family=\"Times,serif\" font-size=\"14.00\">(None, 16, 16, 16)</text>\n</g>\n<!-- 140453407528608&#45;&gt;140453407097328 -->\n<g id=\"edge4\" class=\"edge\">\n<title>140453407528608-&gt;140453407097328</title>\n<path fill=\"none\" stroke=\"black\" d=\"M144.5,-830.37C144.5,-822.15 144.5,-812.66 144.5,-803.73\"/>\n<polygon fill=\"black\" stroke=\"black\" points=\"148,-803.61 144.5,-793.61 141,-803.61 148,-803.61\"/>\n</g>\n<!-- 140453327891232 -->\n<g id=\"node6\" class=\"node\">\n<title>140453327891232</title>\n<polygon fill=\"none\" stroke=\"black\" points=\"0,-664.5 0,-710.5 289,-710.5 289,-664.5 0,-664.5\"/>\n<text text-anchor=\"middle\" x=\"58\" y=\"-695.3\" font-family=\"Times,serif\" font-size=\"14.00\">max_pooling2d_7</text>\n<polyline fill=\"none\" stroke=\"black\" points=\"0,-687.5 116,-687.5 \"/>\n<text text-anchor=\"middle\" x=\"58\" y=\"-672.3\" font-family=\"Times,serif\" font-size=\"14.00\">MaxPooling2D</text>\n<polyline fill=\"none\" stroke=\"black\" points=\"116,-664.5 116,-710.5 \"/>\n<text text-anchor=\"middle\" x=\"143.5\" y=\"-695.3\" font-family=\"Times,serif\" font-size=\"14.00\">input:</text>\n<polyline fill=\"none\" stroke=\"black\" points=\"116,-687.5 171,-687.5 \"/>\n<text text-anchor=\"middle\" x=\"143.5\" y=\"-672.3\" font-family=\"Times,serif\" font-size=\"14.00\">output:</text>\n<polyline fill=\"none\" stroke=\"black\" points=\"171,-664.5 171,-710.5 \"/>\n<text text-anchor=\"middle\" x=\"230\" y=\"-695.3\" font-family=\"Times,serif\" font-size=\"14.00\">(None, 16, 16, 16)</text>\n<polyline fill=\"none\" stroke=\"black\" points=\"171,-687.5 289,-687.5 \"/>\n<text text-anchor=\"middle\" x=\"230\" y=\"-672.3\" font-family=\"Times,serif\" font-size=\"14.00\">(None, 8, 8, 16)</text>\n</g>\n<!-- 140453407097328&#45;&gt;140453327891232 -->\n<g id=\"edge5\" class=\"edge\">\n<title>140453407097328-&gt;140453327891232</title>\n<path fill=\"none\" stroke=\"black\" d=\"M144.5,-747.37C144.5,-739.15 144.5,-729.66 144.5,-720.73\"/>\n<polygon fill=\"black\" stroke=\"black\" points=\"148,-720.61 144.5,-710.61 141,-720.61 148,-720.61\"/>\n</g>\n<!-- 140453336198400 -->\n<g id=\"node7\" class=\"node\">\n<title>140453336198400</title>\n<polygon fill=\"none\" stroke=\"black\" points=\"29,-581.5 29,-627.5 260,-627.5 260,-581.5 29,-581.5\"/>\n<text text-anchor=\"middle\" x=\"65\" y=\"-612.3\" font-family=\"Times,serif\" font-size=\"14.00\">dropout_9</text>\n<polyline fill=\"none\" stroke=\"black\" points=\"29,-604.5 101,-604.5 \"/>\n<text text-anchor=\"middle\" x=\"65\" y=\"-589.3\" font-family=\"Times,serif\" font-size=\"14.00\">Dropout</text>\n<polyline fill=\"none\" stroke=\"black\" points=\"101,-581.5 101,-627.5 \"/>\n<text text-anchor=\"middle\" x=\"128.5\" y=\"-612.3\" font-family=\"Times,serif\" font-size=\"14.00\">input:</text>\n<polyline fill=\"none\" stroke=\"black\" points=\"101,-604.5 156,-604.5 \"/>\n<text text-anchor=\"middle\" x=\"128.5\" y=\"-589.3\" font-family=\"Times,serif\" font-size=\"14.00\">output:</text>\n<polyline fill=\"none\" stroke=\"black\" points=\"156,-581.5 156,-627.5 \"/>\n<text text-anchor=\"middle\" x=\"208\" y=\"-612.3\" font-family=\"Times,serif\" font-size=\"14.00\">(None, 8, 8, 16)</text>\n<polyline fill=\"none\" stroke=\"black\" points=\"156,-604.5 260,-604.5 \"/>\n<text text-anchor=\"middle\" x=\"208\" y=\"-589.3\" font-family=\"Times,serif\" font-size=\"14.00\">(None, 8, 8, 16)</text>\n</g>\n<!-- 140453327891232&#45;&gt;140453336198400 -->\n<g id=\"edge6\" class=\"edge\">\n<title>140453327891232-&gt;140453336198400</title>\n<path fill=\"none\" stroke=\"black\" d=\"M144.5,-664.37C144.5,-656.15 144.5,-646.66 144.5,-637.73\"/>\n<polygon fill=\"black\" stroke=\"black\" points=\"148,-637.61 144.5,-627.61 141,-637.61 148,-637.61\"/>\n</g>\n<!-- 140453407114576 -->\n<g id=\"node8\" class=\"node\">\n<title>140453407114576</title>\n<polygon fill=\"none\" stroke=\"black\" points=\"30,-498.5 30,-544.5 259,-544.5 259,-498.5 30,-498.5\"/>\n<text text-anchor=\"middle\" x=\"65\" y=\"-529.3\" font-family=\"Times,serif\" font-size=\"14.00\">conv2d_8</text>\n<polyline fill=\"none\" stroke=\"black\" points=\"30,-521.5 100,-521.5 \"/>\n<text text-anchor=\"middle\" x=\"65\" y=\"-506.3\" font-family=\"Times,serif\" font-size=\"14.00\">Conv2D</text>\n<polyline fill=\"none\" stroke=\"black\" points=\"100,-498.5 100,-544.5 \"/>\n<text text-anchor=\"middle\" x=\"127.5\" y=\"-529.3\" font-family=\"Times,serif\" font-size=\"14.00\">input:</text>\n<polyline fill=\"none\" stroke=\"black\" points=\"100,-521.5 155,-521.5 \"/>\n<text text-anchor=\"middle\" x=\"127.5\" y=\"-506.3\" font-family=\"Times,serif\" font-size=\"14.00\">output:</text>\n<polyline fill=\"none\" stroke=\"black\" points=\"155,-498.5 155,-544.5 \"/>\n<text text-anchor=\"middle\" x=\"207\" y=\"-529.3\" font-family=\"Times,serif\" font-size=\"14.00\">(None, 8, 8, 16)</text>\n<polyline fill=\"none\" stroke=\"black\" points=\"155,-521.5 259,-521.5 \"/>\n<text text-anchor=\"middle\" x=\"207\" y=\"-506.3\" font-family=\"Times,serif\" font-size=\"14.00\">(None, 8, 8, 36)</text>\n</g>\n<!-- 140453336198400&#45;&gt;140453407114576 -->\n<g id=\"edge7\" class=\"edge\">\n<title>140453336198400-&gt;140453407114576</title>\n<path fill=\"none\" stroke=\"black\" d=\"M144.5,-581.37C144.5,-573.15 144.5,-563.66 144.5,-554.73\"/>\n<polygon fill=\"black\" stroke=\"black\" points=\"148,-554.61 144.5,-544.61 141,-554.61 148,-554.61\"/>\n</g>\n<!-- 140453330602160 -->\n<g id=\"node9\" class=\"node\">\n<title>140453330602160</title>\n<polygon fill=\"none\" stroke=\"black\" points=\"7,-415.5 7,-461.5 282,-461.5 282,-415.5 7,-415.5\"/>\n<text text-anchor=\"middle\" x=\"65\" y=\"-446.3\" font-family=\"Times,serif\" font-size=\"14.00\">max_pooling2d_8</text>\n<polyline fill=\"none\" stroke=\"black\" points=\"7,-438.5 123,-438.5 \"/>\n<text text-anchor=\"middle\" x=\"65\" y=\"-423.3\" font-family=\"Times,serif\" font-size=\"14.00\">MaxPooling2D</text>\n<polyline fill=\"none\" stroke=\"black\" points=\"123,-415.5 123,-461.5 \"/>\n<text text-anchor=\"middle\" x=\"150.5\" y=\"-446.3\" font-family=\"Times,serif\" font-size=\"14.00\">input:</text>\n<polyline fill=\"none\" stroke=\"black\" points=\"123,-438.5 178,-438.5 \"/>\n<text text-anchor=\"middle\" x=\"150.5\" y=\"-423.3\" font-family=\"Times,serif\" font-size=\"14.00\">output:</text>\n<polyline fill=\"none\" stroke=\"black\" points=\"178,-415.5 178,-461.5 \"/>\n<text text-anchor=\"middle\" x=\"230\" y=\"-446.3\" font-family=\"Times,serif\" font-size=\"14.00\">(None, 8, 8, 36)</text>\n<polyline fill=\"none\" stroke=\"black\" points=\"178,-438.5 282,-438.5 \"/>\n<text text-anchor=\"middle\" x=\"230\" y=\"-423.3\" font-family=\"Times,serif\" font-size=\"14.00\">(None, 4, 4, 36)</text>\n</g>\n<!-- 140453407114576&#45;&gt;140453330602160 -->\n<g id=\"edge8\" class=\"edge\">\n<title>140453407114576-&gt;140453330602160</title>\n<path fill=\"none\" stroke=\"black\" d=\"M144.5,-498.37C144.5,-490.15 144.5,-480.66 144.5,-471.73\"/>\n<polygon fill=\"black\" stroke=\"black\" points=\"148,-471.61 144.5,-461.61 141,-471.61 148,-471.61\"/>\n</g>\n<!-- 140453407529376 -->\n<g id=\"node10\" class=\"node\">\n<title>140453407529376</title>\n<polygon fill=\"none\" stroke=\"black\" points=\"25.5,-332.5 25.5,-378.5 263.5,-378.5 263.5,-332.5 25.5,-332.5\"/>\n<text text-anchor=\"middle\" x=\"65\" y=\"-363.3\" font-family=\"Times,serif\" font-size=\"14.00\">dropout_10</text>\n<polyline fill=\"none\" stroke=\"black\" points=\"25.5,-355.5 104.5,-355.5 \"/>\n<text text-anchor=\"middle\" x=\"65\" y=\"-340.3\" font-family=\"Times,serif\" font-size=\"14.00\">Dropout</text>\n<polyline fill=\"none\" stroke=\"black\" points=\"104.5,-332.5 104.5,-378.5 \"/>\n<text text-anchor=\"middle\" x=\"132\" y=\"-363.3\" font-family=\"Times,serif\" font-size=\"14.00\">input:</text>\n<polyline fill=\"none\" stroke=\"black\" points=\"104.5,-355.5 159.5,-355.5 \"/>\n<text text-anchor=\"middle\" x=\"132\" y=\"-340.3\" font-family=\"Times,serif\" font-size=\"14.00\">output:</text>\n<polyline fill=\"none\" stroke=\"black\" points=\"159.5,-332.5 159.5,-378.5 \"/>\n<text text-anchor=\"middle\" x=\"211.5\" y=\"-363.3\" font-family=\"Times,serif\" font-size=\"14.00\">(None, 4, 4, 36)</text>\n<polyline fill=\"none\" stroke=\"black\" points=\"159.5,-355.5 263.5,-355.5 \"/>\n<text text-anchor=\"middle\" x=\"211.5\" y=\"-340.3\" font-family=\"Times,serif\" font-size=\"14.00\">(None, 4, 4, 36)</text>\n</g>\n<!-- 140453330602160&#45;&gt;140453407529376 -->\n<g id=\"edge9\" class=\"edge\">\n<title>140453330602160-&gt;140453407529376</title>\n<path fill=\"none\" stroke=\"black\" d=\"M144.5,-415.37C144.5,-407.15 144.5,-397.66 144.5,-388.73\"/>\n<polygon fill=\"black\" stroke=\"black\" points=\"148,-388.61 144.5,-378.61 141,-388.61 148,-388.61\"/>\n</g>\n<!-- 140453327890320 -->\n<g id=\"node11\" class=\"node\">\n<title>140453327890320</title>\n<polygon fill=\"none\" stroke=\"black\" points=\"32.5,-249.5 32.5,-295.5 256.5,-295.5 256.5,-249.5 32.5,-249.5\"/>\n<text text-anchor=\"middle\" x=\"65\" y=\"-280.3\" font-family=\"Times,serif\" font-size=\"14.00\">flatten_2</text>\n<polyline fill=\"none\" stroke=\"black\" points=\"32.5,-272.5 97.5,-272.5 \"/>\n<text text-anchor=\"middle\" x=\"65\" y=\"-257.3\" font-family=\"Times,serif\" font-size=\"14.00\">Flatten</text>\n<polyline fill=\"none\" stroke=\"black\" points=\"97.5,-249.5 97.5,-295.5 \"/>\n<text text-anchor=\"middle\" x=\"125\" y=\"-280.3\" font-family=\"Times,serif\" font-size=\"14.00\">input:</text>\n<polyline fill=\"none\" stroke=\"black\" points=\"97.5,-272.5 152.5,-272.5 \"/>\n<text text-anchor=\"middle\" x=\"125\" y=\"-257.3\" font-family=\"Times,serif\" font-size=\"14.00\">output:</text>\n<polyline fill=\"none\" stroke=\"black\" points=\"152.5,-249.5 152.5,-295.5 \"/>\n<text text-anchor=\"middle\" x=\"204.5\" y=\"-280.3\" font-family=\"Times,serif\" font-size=\"14.00\">(None, 4, 4, 36)</text>\n<polyline fill=\"none\" stroke=\"black\" points=\"152.5,-272.5 256.5,-272.5 \"/>\n<text text-anchor=\"middle\" x=\"204.5\" y=\"-257.3\" font-family=\"Times,serif\" font-size=\"14.00\">(None, 576)</text>\n</g>\n<!-- 140453407529376&#45;&gt;140453327890320 -->\n<g id=\"edge10\" class=\"edge\">\n<title>140453407529376-&gt;140453327890320</title>\n<path fill=\"none\" stroke=\"black\" d=\"M144.5,-332.37C144.5,-324.15 144.5,-314.66 144.5,-305.73\"/>\n<polygon fill=\"black\" stroke=\"black\" points=\"148,-305.61 144.5,-295.61 141,-305.61 148,-305.61\"/>\n</g>\n<!-- 140453424557744 -->\n<g id=\"node12\" class=\"node\">\n<title>140453424557744</title>\n<polygon fill=\"none\" stroke=\"black\" points=\"45,-166.5 45,-212.5 244,-212.5 244,-166.5 45,-166.5\"/>\n<text text-anchor=\"middle\" x=\"75.5\" y=\"-197.3\" font-family=\"Times,serif\" font-size=\"14.00\">dense_4</text>\n<polyline fill=\"none\" stroke=\"black\" points=\"45,-189.5 106,-189.5 \"/>\n<text text-anchor=\"middle\" x=\"75.5\" y=\"-174.3\" font-family=\"Times,serif\" font-size=\"14.00\">Dense</text>\n<polyline fill=\"none\" stroke=\"black\" points=\"106,-166.5 106,-212.5 \"/>\n<text text-anchor=\"middle\" x=\"133.5\" y=\"-197.3\" font-family=\"Times,serif\" font-size=\"14.00\">input:</text>\n<polyline fill=\"none\" stroke=\"black\" points=\"106,-189.5 161,-189.5 \"/>\n<text text-anchor=\"middle\" x=\"133.5\" y=\"-174.3\" font-family=\"Times,serif\" font-size=\"14.00\">output:</text>\n<polyline fill=\"none\" stroke=\"black\" points=\"161,-166.5 161,-212.5 \"/>\n<text text-anchor=\"middle\" x=\"202.5\" y=\"-197.3\" font-family=\"Times,serif\" font-size=\"14.00\">(None, 576)</text>\n<polyline fill=\"none\" stroke=\"black\" points=\"161,-189.5 244,-189.5 \"/>\n<text text-anchor=\"middle\" x=\"202.5\" y=\"-174.3\" font-family=\"Times,serif\" font-size=\"14.00\">(None, 512)</text>\n</g>\n<!-- 140453327890320&#45;&gt;140453424557744 -->\n<g id=\"edge11\" class=\"edge\">\n<title>140453327890320-&gt;140453424557744</title>\n<path fill=\"none\" stroke=\"black\" d=\"M144.5,-249.37C144.5,-241.15 144.5,-231.66 144.5,-222.73\"/>\n<polygon fill=\"black\" stroke=\"black\" points=\"148,-222.61 144.5,-212.61 141,-222.61 148,-222.61\"/>\n</g>\n<!-- 140453424555824 -->\n<g id=\"node13\" class=\"node\">\n<title>140453424555824</title>\n<polygon fill=\"none\" stroke=\"black\" points=\"36,-83.5 36,-129.5 253,-129.5 253,-83.5 36,-83.5\"/>\n<text text-anchor=\"middle\" x=\"75.5\" y=\"-114.3\" font-family=\"Times,serif\" font-size=\"14.00\">dropout_11</text>\n<polyline fill=\"none\" stroke=\"black\" points=\"36,-106.5 115,-106.5 \"/>\n<text text-anchor=\"middle\" x=\"75.5\" y=\"-91.3\" font-family=\"Times,serif\" font-size=\"14.00\">Dropout</text>\n<polyline fill=\"none\" stroke=\"black\" points=\"115,-83.5 115,-129.5 \"/>\n<text text-anchor=\"middle\" x=\"142.5\" y=\"-114.3\" font-family=\"Times,serif\" font-size=\"14.00\">input:</text>\n<polyline fill=\"none\" stroke=\"black\" points=\"115,-106.5 170,-106.5 \"/>\n<text text-anchor=\"middle\" x=\"142.5\" y=\"-91.3\" font-family=\"Times,serif\" font-size=\"14.00\">output:</text>\n<polyline fill=\"none\" stroke=\"black\" points=\"170,-83.5 170,-129.5 \"/>\n<text text-anchor=\"middle\" x=\"211.5\" y=\"-114.3\" font-family=\"Times,serif\" font-size=\"14.00\">(None, 512)</text>\n<polyline fill=\"none\" stroke=\"black\" points=\"170,-106.5 253,-106.5 \"/>\n<text text-anchor=\"middle\" x=\"211.5\" y=\"-91.3\" font-family=\"Times,serif\" font-size=\"14.00\">(None, 512)</text>\n</g>\n<!-- 140453424557744&#45;&gt;140453424555824 -->\n<g id=\"edge12\" class=\"edge\">\n<title>140453424557744-&gt;140453424555824</title>\n<path fill=\"none\" stroke=\"black\" d=\"M144.5,-166.37C144.5,-158.15 144.5,-148.66 144.5,-139.73\"/>\n<polygon fill=\"black\" stroke=\"black\" points=\"148,-139.61 144.5,-129.61 141,-139.61 148,-139.61\"/>\n</g>\n<!-- 140453424582768 -->\n<g id=\"node14\" class=\"node\">\n<title>140453424582768</title>\n<polygon fill=\"none\" stroke=\"black\" points=\"45,-0.5 45,-46.5 244,-46.5 244,-0.5 45,-0.5\"/>\n<text text-anchor=\"middle\" x=\"75.5\" y=\"-31.3\" font-family=\"Times,serif\" font-size=\"14.00\">dense_5</text>\n<polyline fill=\"none\" stroke=\"black\" points=\"45,-23.5 106,-23.5 \"/>\n<text text-anchor=\"middle\" x=\"75.5\" y=\"-8.3\" font-family=\"Times,serif\" font-size=\"14.00\">Dense</text>\n<polyline fill=\"none\" stroke=\"black\" points=\"106,-0.5 106,-46.5 \"/>\n<text text-anchor=\"middle\" x=\"133.5\" y=\"-31.3\" font-family=\"Times,serif\" font-size=\"14.00\">input:</text>\n<polyline fill=\"none\" stroke=\"black\" points=\"106,-23.5 161,-23.5 \"/>\n<text text-anchor=\"middle\" x=\"133.5\" y=\"-8.3\" font-family=\"Times,serif\" font-size=\"14.00\">output:</text>\n<polyline fill=\"none\" stroke=\"black\" points=\"161,-0.5 161,-46.5 \"/>\n<text text-anchor=\"middle\" x=\"202.5\" y=\"-31.3\" font-family=\"Times,serif\" font-size=\"14.00\">(None, 512)</text>\n<polyline fill=\"none\" stroke=\"black\" points=\"161,-23.5 244,-23.5 \"/>\n<text text-anchor=\"middle\" x=\"202.5\" y=\"-8.3\" font-family=\"Times,serif\" font-size=\"14.00\">(None, 1)</text>\n</g>\n<!-- 140453424555824&#45;&gt;140453424582768 -->\n<g id=\"edge13\" class=\"edge\">\n<title>140453424555824-&gt;140453424582768</title>\n<path fill=\"none\" stroke=\"black\" d=\"M144.5,-83.37C144.5,-75.15 144.5,-65.66 144.5,-56.73\"/>\n<polygon fill=\"black\" stroke=\"black\" points=\"148,-56.61 144.5,-46.61 141,-56.61 148,-56.61\"/>\n</g>\n</g>\n</svg>"
          },
          "metadata": {},
          "execution_count": 71
        }
      ]
    },
    {
      "cell_type": "code",
      "source": [
        "score = model.evaluate(x_test , y_test,verbose = 0)\n",
        "print(\"Test Accuracy : \",score[1]*100)"
      ],
      "metadata": {
        "colab": {
          "base_uri": "https://localhost:8080/"
        },
        "id": "35oYAvoxWP3F",
        "outputId": "4ebb1541-b1a2-42e6-9da1-dfbaadac191a"
      },
      "execution_count": null,
      "outputs": [
        {
          "output_type": "stream",
          "name": "stdout",
          "text": [
            "Test Accuracy :  80.58252334594727\n"
          ]
        }
      ]
    },
    {
      "cell_type": "code",
      "source": [
        "labels =[\"No\",  # index 0\n",
        "        \"Yes\",      # index 1\n",
        "        ]"
      ],
      "metadata": {
        "id": "RU8JnJafYho8"
      },
      "execution_count": null,
      "outputs": []
    },
    {
      "cell_type": "code",
      "source": [
        "y_hat = model.predict(x_test)\n",
        "# Plot a random sample of 10 test images, their predicted labels and ground truth\n",
        "figure = plt.figure(figsize=(20, 8))\n",
        "for i, index in enumerate(np.random.choice(x_test.shape[0], size=24, replace=False)):\n",
        "    ax = figure.add_subplot(3, 8, i + 1, xticks=[], yticks=[])\n",
        "    # Display each image\n",
        "    ax.imshow(np.squeeze(x_test[index]))\n",
        "    predict_index = 1 if y_hat[index]>=0.5 else 0\n",
        "    true_index = y_test[index]\n",
        "    # Set the title for each image\n",
        "    ax.set_title(\"{} ({})\".format(labels[predict_index], \n",
        "                                  labels[true_index]),\n",
        "                                  color=(\"green\" if predict_index == true_index else \"red\"))\n",
        "plt.show()"
      ],
      "metadata": {
        "colab": {
          "base_uri": "https://localhost:8080/",
          "height": 613
        },
        "id": "TXeUwiupWP02",
        "outputId": "27ee5688-52b9-4bdb-d4e2-a142490e5d5c"
      },
      "execution_count": null,
      "outputs": [
        {
          "output_type": "stream",
          "name": "stdout",
          "text": [
            "4/4 [==============================] - 0s 84ms/step\n"
          ]
        },
        {
          "output_type": "display_data",
          "data": {
            "text/plain": [
              "<Figure size 2000x800 with 24 Axes>"
            ],
            "image/png": "[encoded data removed]"
          },
          "metadata": {}
        }
      ]
    }
  ]
}